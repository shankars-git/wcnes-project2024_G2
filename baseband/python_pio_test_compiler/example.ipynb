{
 "cells": [
  {
   "cell_type": "code",
   "execution_count": 1,
   "id": "initial_id",
   "metadata": {
    "ExecuteTime": {
     "end_time": "2024-05-14T13:52:43.987982Z",
     "start_time": "2024-05-14T13:52:43.610844Z"
    }
   },
   "outputs": [],
   "source": [
    "from generate_python_script import PioState,EmptyOutBufferException"
   ]
  },
  {
   "cell_type": "code",
   "execution_count": 2,
   "id": "9487ecf243c426a2",
   "metadata": {
    "collapsed": false,
    "ExecuteTime": {
     "end_time": "2024-05-14T13:52:43.997488Z",
     "start_time": "2024-05-14T13:52:43.993019Z"
    }
   },
   "outputs": [],
   "source": [
    "def get_program_text() -> str:\n",
    "    with open(\"test.pio\", \"r\") as file1:\n",
    "        # Reading from a file\n",
    "        return file1.read()\n",
    "program:str = get_program_text()"
   ]
  },
  {
   "cell_type": "code",
   "execution_count": 3,
   "id": "ccc18fd8f285ff8e",
   "metadata": {
    "collapsed": false,
    "ExecuteTime": {
     "end_time": "2024-05-14T13:52:44.010305Z",
     "start_time": "2024-05-14T13:52:44.000249Z"
    }
   },
   "outputs": [],
   "source": [
    "data:int = 0b01101011110000111110100000010110"
   ]
  },
  {
   "cell_type": "code",
   "execution_count": 4,
   "id": "a5a284e09a9102c2",
   "metadata": {
    "collapsed": false,
    "ExecuteTime": {
     "end_time": "2024-05-14T13:52:44.020439Z",
     "start_time": "2024-05-14T13:52:44.014351Z"
    }
   },
   "outputs": [],
   "source": [
    "from typing import  Tuple\n",
    "\n",
    "def get_x_and_y()->Tuple[int, int]:\n",
    "    out_buffer=PioState.create_out_buffer([0,data])\n",
    "    state = PioState.start(program=program, out_buffer=out_buffer)\n",
    "    x = []\n",
    "    y = []\n",
    "    try:\n",
    "        while True:\n",
    "            if state.internal_pin:\n",
    "                y += [10]\n",
    "            else:\n",
    "                y += [0]\n",
    "            x += [state.step]\n",
    "            \n",
    "            state.process_next_step()\n",
    "    except EmptyOutBufferException:\n",
    "        \n",
    "        return x,y\n"
   ]
  },
  {
   "cell_type": "code",
   "execution_count": 5,
   "id": "4bce0542270c57ac",
   "metadata": {
    "collapsed": false,
    "ExecuteTime": {
     "end_time": "2024-05-14T13:52:44.033007Z",
     "start_time": "2024-05-14T13:52:44.027513Z"
    }
   },
   "outputs": [],
   "source": [
    "from typing import  List\n",
    "def make_lines_straight(x:List[int], y:List[int])->Tuple[List[int], List[int]]:\n",
    "    y_new = [x[0]]\n",
    "    x_new = [y[0]]\n",
    "    for yi, yv in enumerate(y[1:]):\n",
    "        yi +=1\n",
    "        if y[yi - 1] != yv:\n",
    "            y_new.append(y[yi - 1])   \n",
    "            x_new.append(x[yi])\n",
    "        y_new.append(yv)   \n",
    "        x_new.append(x[yi])\n",
    "    return x_new,y_new\n",
    "    \n",
    "        "
   ]
  },
  {
   "cell_type": "code",
   "outputs": [],
   "source": [
    "\n",
    "import ipywidgets as widgets\n",
    "import plotly.graph_objects as go\n",
    "\n",
    "\n",
    "\n",
    "(x,y) = get_x_and_y()\n",
    "(x,y) = make_lines_straight(x,y)\n",
    "f = go.FigureWidget()\n",
    "f.add_scatter(y=y, x=x)\n",
    "def update_plot(initial:Tuple[int,int] = (1,1)):\n",
    "    scatter = f.data[0]\n",
    "    scatter.y = y[initial[0]:initial[1]]\n",
    "    scatter.x = x[initial[0]:initial[1]]\n",
    "\n",
    "data_range = widgets.IntRangeSlider(\n",
    "    value=[0, x[-1]],\n",
    "    min=0,\n",
    "    max=x[-1],\n",
    "    step=1,\n",
    "    description='Test:',\n",
    "    disabled=False,\n",
    "    # continuous_update=False,\n",
    "    orientation='horizontal',\n",
    "    readout=True,\n",
    "    readout_format='d',\n",
    "    layout=widgets.Layout(width='100%')\n",
    ")\n",
    "\n",
    "slider = widgets.interactive(update_plot, initial=data_range)\n"
   ],
   "metadata": {
    "collapsed": false,
    "ExecuteTime": {
     "end_time": "2024-05-14T13:52:44.296458Z",
     "start_time": "2024-05-14T13:52:44.037616Z"
    }
   },
   "id": "1394c552cb5a1fc7",
   "execution_count": 6
  },
  {
   "cell_type": "code",
   "execution_count": 7,
   "id": "8c8c45031548e680",
   "metadata": {
    "collapsed": false,
    "ExecuteTime": {
     "start_time": "2024-05-14T13:52:44.348358Z"
    }
   },
   "outputs": [
    {
     "data": {
      "text/plain": "interactive(children=(IntRangeSlider(value=(0, 1067), description='Test:', layout=Layout(width='100%'), max=10…",
      "application/vnd.jupyter.widget-view+json": {
       "version_major": 2,
       "version_minor": 0,
       "model_id": "cd6785b79a1947139ad8acfb2ce3278f"
      }
     },
     "execution_count": 7,
     "metadata": {},
     "output_type": "execute_result"
    }
   ],
   "source": [
    "slider"
   ]
  },
  {
   "cell_type": "code",
   "execution_count": 8,
   "id": "8334721a311aa9b5",
   "metadata": {
    "collapsed": false,
    "ExecuteTime": {
     "start_time": "2024-05-14T13:52:44.362131Z"
    }
   },
   "outputs": [
    {
     "data": {
      "application/vnd.jupyter.widget-view+json": {
       "version_major": 2,
       "version_minor": 0,
       "model_id": "177ef55994074f73b2f8edfdec912dff"
      },
      "text/plain": "FigureWidget({\n    'data': [{'type': 'scatter',\n              'uid': '5b8995de-4ed9-41fd-a175-1bc02441e510',\n              'x': [0, 1, 1, ..., 986, 987, 988],\n              'y': [0, 0, 10, ..., 10, 10, 10]}],\n    'layout': {'template': '...'}\n})"
     },
     "execution_count": 8,
     "metadata": {},
     "output_type": "execute_result"
    }
   ],
   "source": [
    "f"
   ]
  }
 ],
 "metadata": {
  "kernelspec": {
   "display_name": "Python 3 (ipykernel)",
   "language": "python",
   "name": "python3"
  },
  "language_info": {
   "codemirror_mode": {
    "name": "ipython",
    "version": 3
   },
   "file_extension": ".py",
   "mimetype": "text/x-python",
   "name": "python",
   "nbconvert_exporter": "python",
   "pygments_lexer": "ipython3",
   "version": "3.12.3"
  }
 },
 "nbformat": 4,
 "nbformat_minor": 5
}
