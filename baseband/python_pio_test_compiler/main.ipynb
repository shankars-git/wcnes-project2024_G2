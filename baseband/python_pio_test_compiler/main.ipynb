{
 "cells": [
  {
   "cell_type": "code",
   "execution_count": 15,
   "id": "initial_id",
   "metadata": {
    "ExecuteTime": {
     "end_time": "2024-04-26T21:44:01.452378Z",
     "start_time": "2024-04-26T21:44:01.425741Z"
    }
   },
   "outputs": [],
   "source": [
    "from generate_python_script import PioState, EmptyOutBufferException"
   ]
  },
  {
   "cell_type": "code",
   "execution_count": 16,
   "id": "9487ecf243c426a2",
   "metadata": {
    "collapsed": false,
    "ExecuteTime": {
     "end_time": "2024-04-26T21:44:01.458080Z",
     "start_time": "2024-04-26T21:44:01.438884Z"
    }
   },
   "outputs": [],
   "source": [
    "def get_program_text() -> str:\n",
    "    with open(\"test2.pio\", \"r\") as file1:\n",
    "        # Reading from a file\n",
    "        return file1.read()\n",
    "\n",
    "\n",
    "program: str = get_program_text()"
   ]
  },
  {
   "cell_type": "code",
   "execution_count": 17,
   "id": "ccc18fd8f285ff8e",
   "metadata": {
    "collapsed": false,
    "ExecuteTime": {
     "end_time": "2024-04-26T21:44:01.487249Z",
     "start_time": "2024-04-26T21:44:01.452602Z"
    }
   },
   "outputs": [],
   "source": [
    "from typing import List\n",
    "\n",
    "data: List[int] = [\n",
    "    0b01101101101101101101101111011011,\n",
    "    0b01101101101101101101100000000000\n",
    "]"
   ]
  },
  {
   "cell_type": "code",
   "execution_count": 18,
   "id": "a5a284e09a9102c2",
   "metadata": {
    "collapsed": false,
    "ExecuteTime": {
     "end_time": "2024-04-26T21:44:01.489095Z",
     "start_time": "2024-04-26T21:44:01.464218Z"
    }
   },
   "outputs": [],
   "source": [
    "from typing import Tuple\n",
    "\n",
    "\n",
    "def get_x_and_y() -> Tuple[int, int]:\n",
    "    out_buffer = PioState.create_out_buffer(data)\n",
    "    state = PioState.start(program=program, out_buffer=out_buffer)\n",
    "    x = []\n",
    "    y = []\n",
    "    try:\n",
    "        while True:\n",
    "            if state.internal_pin:\n",
    "                y += [10]\n",
    "            else:\n",
    "                y += [0]\n",
    "            x += [state.step]\n",
    "\n",
    "            state.process_next_step()\n",
    "    except EmptyOutBufferException:\n",
    "\n",
    "        return x, y\n"
   ]
  },
  {
   "cell_type": "code",
   "execution_count": 19,
   "id": "e74cee30a29cd250",
   "metadata": {
    "collapsed": false,
    "ExecuteTime": {
     "end_time": "2024-04-26T21:44:01.564484Z",
     "start_time": "2024-04-26T21:44:01.469213Z"
    }
   },
   "outputs": [
    {
     "name": "stdout",
     "output_type": "stream",
     "text": [
      "[0, 0, 1, 1, 2, 3, 4, 4, 5, 6, 6, 7, 8, 8, 9, 10, 11, 12, 12, 13, 14, 14, 15, 16, 16, 17, 18, 19, 19, 20, 21, 21, 22, 23, 23, 24, 25, 26, 27, 27, 28, 29, 29, 30, 31, 31, 32, 33, 34, 34, 35, 36, 36, 37, 38, 38, 39, 40, 41, 42, 42, 43, 44, 44, 45, 46, 46, 47, 48, 49, 49, 50, 51, 51, 52, 53, 53, 54, 55, 56, 57, 57, 58, 59, 59, 60, 61, 61, 62, 63, 63, 64, 65, 65, 66, 67, 68, 68, 69, 70, 70, 71, 72, 72, 73, 74, 75, 76, 76, 77, 78, 78, 79, 80, 80, 81, 82, 83, 83, 84, 85, 85, 86, 87, 87, 88, 89, 90, 91, 91, 92, 93, 93, 94, 95, 95, 96, 97, 98, 98, 99, 100, 100, 101, 102, 102, 103, 104, 105, 106, 106, 107, 108, 108, 109, 110, 110, 111, 112, 113, 113, 114, 115, 115, 116, 117, 117, 118, 119, 120, 121, 121, 122, 123, 123, 124, 125, 125, 126, 127, 128, 128, 129, 130, 130, 131, 132, 132, 133, 134, 135, 136, 136, 137, 138, 139, 139, 140, 141, 142, 143, 143, 144, 145, 146, 146, 147, 148, 149, 150, 150, 151, 152, 153, 153, 154, 155, 156, 157, 157, 158, 159, 160, 160, 161, 162, 163, 164, 164, 165, 166, 167, 167, 168, 169, 170, 171, 171] [0, 0, 0, 0, 0, 0, 10, 10, 10, 10, 10, 10, 10, 10, 10, 10, 10, 0, 0, 0, 0, 0, 0, 0, 0, 0, 0, 10, 10, 10, 10, 10, 10, 10, 10, 10, 10, 10, 0, 0, 0, 0, 0, 0, 0, 0, 0, 0, 10, 10, 10, 10, 10, 10, 10, 10, 10, 10, 10, 0, 0, 0, 0, 0, 0, 0, 0, 0, 0, 10, 10, 10, 10, 10, 10, 10, 10, 10, 10, 10, 0, 0, 0, 0, 0, 0, 0, 0, 0, 0, 0, 0, 0, 0, 0, 0, 10, 10, 10, 10, 10, 10, 10, 10, 10, 10, 10, 0, 0, 0, 0, 0, 0, 0, 0, 0, 0, 10, 10, 10, 10, 10, 10, 10, 10, 10, 10, 10, 0, 0, 0, 0, 0, 0, 0, 0, 0, 0, 10, 10, 10, 10, 10, 10, 10, 10, 10, 10, 10, 0, 0, 0, 0, 0, 0, 0, 0, 0, 0, 10, 10, 10, 10, 10, 10, 10, 10, 10, 10, 10, 0, 0, 0, 0, 0, 0, 0, 0, 0, 0, 10, 10, 10, 10, 10, 10, 10, 10, 10, 10, 10, 0, 0, 0, 0, 10, 10, 10, 10, 10, 0, 0, 0, 0, 10, 10, 10, 10, 10, 0, 0, 0, 0, 10, 10, 10, 10, 10, 0, 0, 0, 0, 10, 10, 10, 10, 10, 0, 0, 0, 0, 10, 10, 10, 10, 10, 0, 0]\n"
     ]
    }
   ],
   "source": [
    "(x, y) = get_x_and_y()\n",
    "print(x, y)"
   ]
  },
  {
   "cell_type": "code",
   "outputs": [],
   "source": [
    "def make_lines_straight(x: List[int], y: List[int]) -> Tuple[List[int], List[int]]:\n",
    "    y_new = [x[0]]\n",
    "    x_new = [y[0]]\n",
    "    for yi, yv in enumerate(y[1:]):\n",
    "        yi += 1\n",
    "        if y[yi - 1] != yv:\n",
    "            y_new.append(y[yi - 1])\n",
    "            x_new.append(x[yi])\n",
    "        y_new.append(yv)\n",
    "        x_new.append(x[yi])\n",
    "    return x_new, y_new\n",
    "\n"
   ],
   "metadata": {
    "collapsed": false,
    "ExecuteTime": {
     "end_time": "2024-04-26T21:44:01.569064Z",
     "start_time": "2024-04-26T21:44:01.493146Z"
    }
   },
   "id": "59780737604b86e1",
   "execution_count": 20
  },
  {
   "cell_type": "code",
   "outputs": [],
   "source": [
    "def to_graph(list_ints: List[int]):\n",
    "    f = go.FigureWidget()\n",
    "    f.update_layout(\n",
    "        xaxis=dict(\n",
    "            tickmode='linear',\n",
    "            tick0=0,\n",
    "            dtick=4\n",
    "        )\n",
    "    )\n",
    "    is_high = list_ints[0] == 1\n",
    "    values = list_ints[1:]\n",
    "    x = []\n",
    "    y = []\n",
    "    idx = 0\n",
    "    is_high = not is_high  # invert to un invert on first iter\n",
    "    for val in values:\n",
    "        is_high = not is_high\n",
    "        for _ in range(val):\n",
    "            x.append(idx)\n",
    "            y.append(10 if is_high else 0)\n",
    "            idx += 1\n",
    "    x, y = make_lines_straight(x, y)\n",
    "    f.add_scatter(y=y, x=x)\n",
    "    return f"
   ],
   "metadata": {
    "collapsed": false,
    "ExecuteTime": {
     "end_time": "2024-04-26T21:44:01.585930Z",
     "start_time": "2024-04-26T21:44:01.507194Z"
    }
   },
   "id": "5b3bae7b66442f66",
   "execution_count": 21
  },
  {
   "cell_type": "code",
   "outputs": [],
   "source": [
    "\n",
    "import ipywidgets as widgets\n",
    "import plotly.graph_objects as go\n",
    "\n",
    "f = go.FigureWidget()\n",
    "(x, y) = make_lines_straight(x, y)\n",
    "f.add_scatter(y=y, x=x)\n",
    "f.update_layout(\n",
    "    xaxis=dict(\n",
    "        tickmode='linear',\n",
    "        tick0=0,\n",
    "        dtick=4\n",
    "    )\n",
    ")\n",
    "\n",
    "\n",
    "def update_plot(initial: Tuple[int, int] = (1, 1)):\n",
    "    scatter = f.data[0]\n",
    "    scatter.y = y[initial[0]:initial[1]]\n",
    "    scatter.x = x[initial[0]:initial[1]]\n",
    "\n",
    "\n",
    "data_range = widgets.IntRangeSlider(\n",
    "    value=[0, x[-1]],\n",
    "    min=0,\n",
    "    max=x[-1],\n",
    "    step=1,\n",
    "    description='Test:',\n",
    "    disabled=False,\n",
    "    # continuous_update=False,\n",
    "    orientation='horizontal',\n",
    "    readout=True,\n",
    "    readout_format='d',\n",
    "    layout=widgets.Layout(width='100%')\n",
    ")\n",
    "\n",
    "slider = widgets.interactive(update_plot, initial=data_range)\n"
   ],
   "metadata": {
    "collapsed": false,
    "ExecuteTime": {
     "end_time": "2024-04-26T21:44:01.652909Z",
     "start_time": "2024-04-26T21:44:01.528032Z"
    }
   },
   "id": "1394c552cb5a1fc7",
   "execution_count": 22
  },
  {
   "cell_type": "code",
   "execution_count": 23,
   "id": "8c8c45031548e680",
   "metadata": {
    "collapsed": false,
    "ExecuteTime": {
     "start_time": "2024-04-26T21:44:01.681225Z"
    }
   },
   "outputs": [
    {
     "data": {
      "text/plain": "interactive(children=(IntRangeSlider(value=(0, 171), description='Test:', layout=Layout(width='100%'), max=171…",
      "application/vnd.jupyter.widget-view+json": {
       "version_major": 2,
       "version_minor": 0,
       "model_id": "8f0024f133634b2992b5113a1b1b2b87"
      }
     },
     "execution_count": 23,
     "metadata": {},
     "output_type": "execute_result"
    }
   ],
   "source": [
    "slider"
   ]
  },
  {
   "cell_type": "code",
   "execution_count": 24,
   "id": "8334721a311aa9b5",
   "metadata": {
    "collapsed": false,
    "ExecuteTime": {
     "end_time": "2024-04-26T21:44:01.755840Z",
     "start_time": "2024-04-26T21:44:01.697425Z"
    }
   },
   "outputs": [
    {
     "data": {
      "application/vnd.jupyter.widget-view+json": {
       "version_major": 2,
       "version_minor": 0,
       "model_id": "10e76e48314d4a0d8d9ff473b07b487d"
      },
      "text/plain": "FigureWidget({\n    'data': [{'type': 'scatter',\n              'uid': 'a97865f4-d193-4a2e-abe4-62c05d84c089',\n              'x': [0, 0, 1, 1, 2, 3, 4, 4, 4, 5, 6, 6, 7, 8, 8, 9, 10, 11, 12,\n                    12, 12, 13, 14, 14, 15, 16, 16, 17, 18, 19, 19, 19, 20, 21, 21,\n                    22, 23, 23, 24, 25, 26, 27, 27, 27, 28, 29, 29, 30, 31, 31, 32,\n                    33, 34, 34, 34, 35, 36, 36, 37, 38, 38, 39, 40, 41, 42, 42, 42,\n                    43, 44, 44, 45, 46, 46, 47, 48, 49, 49, 49, 50, 51, 51, 52, 53,\n                    53, 54, 55, 56, 57, 57, 57, 58, 59, 59, 60, 61, 61, 62, 63, 63,\n                    64, 65, 65, 66, 67, 68, 68, 68, 69, 70, 70, 71, 72, 72, 73, 74,\n                    75, 76, 76, 76, 77, 78, 78, 79, 80, 80, 81, 82, 83, 83, 83, 84,\n                    85, 85, 86, 87, 87, 88, 89, 90, 91, 91, 91, 92, 93, 93, 94, 95,\n                    95, 96, 97, 98, 98, 98, 99, 100, 100, 101, 102, 102, 103, 104,\n                    105, 106, 106, 106, 107, 108, 108, 109, 110, 110],\n              'y': [0, 0, 0, 0, 0, 0, 0, 10, 10, 10, 10, 10, 10, 10, 10, 10, 10,\n                    10, 10, 0, 0, 0, 0, 0, 0, 0, 0, 0, 0, 0, 10, 10, 10, 10, 10,\n                    10, 10, 10, 10, 10, 10, 10, 0, 0, 0, 0, 0, 0, 0, 0, 0, 0, 0,\n                    10, 10, 10, 10, 10, 10, 10, 10, 10, 10, 10, 10, 0, 0, 0, 0, 0,\n                    0, 0, 0, 0, 0, 0, 10, 10, 10, 10, 10, 10, 10, 10, 10, 10, 10,\n                    10, 0, 0, 0, 0, 0, 0, 0, 0, 0, 0, 0, 0, 0, 0, 0, 0, 0, 10, 10,\n                    10, 10, 10, 10, 10, 10, 10, 10, 10, 10, 0, 0, 0, 0, 0, 0, 0, 0,\n                    0, 0, 0, 10, 10, 10, 10, 10, 10, 10, 10, 10, 10, 10, 10, 0, 0,\n                    0, 0, 0, 0, 0, 0, 0, 0, 0, 10, 10, 10, 10, 10, 10, 10, 10, 10,\n                    10, 10, 10, 0, 0, 0, 0, 0, 0, 0, 0]}],\n    'layout': {'template': '...', 'xaxis': {'dtick': 4, 'tick0': 0, 'tickmode': 'linear'}}\n})"
     },
     "execution_count": 24,
     "metadata": {},
     "output_type": "execute_result"
    }
   ],
   "source": [
    "f"
   ]
  },
  {
   "cell_type": "code",
   "outputs": [
    {
     "data": {
      "application/vnd.jupyter.widget-view+json": {
       "version_major": 2,
       "version_minor": 0,
       "model_id": "c3110ed590d3467484ed1d4c0393dc7d"
      },
      "text/plain": "FigureWidget({\n    'data': [{'type': 'scatter',\n              'uid': 'd28ca5ae-af14-4381-bb48-25a4612a97d6',\n              'x': [0, 1, 2, 3, 4, 4, 5, 6, 7, 8, 9, 10, 11, 12, 12, 13, 14, 15,\n                    16, 17, 18, 19, 20, 20, 21, 22, 23, 24, 25, 26, 27, 28, 28, 29,\n                    30, 31, 32, 33, 34, 35, 36, 36, 37, 38, 39, 40, 41, 42, 43, 44,\n                    44, 45, 46, 47, 48, 49, 50, 51, 52, 52, 53, 54, 55, 56, 57, 58,\n                    59, 60, 60, 61, 62, 63, 64, 65, 66, 67, 68, 69, 70, 71, 72, 72,\n                    73, 74, 75, 76, 77, 78, 79, 80, 80, 81, 82, 83, 84, 85, 86, 87,\n                    88, 88, 89, 90, 91, 92, 93, 94, 95, 96, 96, 97, 98, 99, 100,\n                    101, 102, 103, 104, 104, 105, 106, 107, 108, 109, 110, 111,\n                    112, 112, 113, 114, 115, 116, 117, 118, 119, 120, 120, 121,\n                    122, 123, 124, 125, 126, 127, 128, 128, 129, 130, 131, 132,\n                    133, 134, 135, 136, 136, 137, 138, 139, 140, 141, 142, 143],\n              'y': [0, 0, 0, 0, 0, 10, 10, 10, 10, 10, 10, 10, 10, 10, 0, 0, 0, 0,\n                    0, 0, 0, 0, 0, 10, 10, 10, 10, 10, 10, 10, 10, 10, 0, 0, 0, 0,\n                    0, 0, 0, 0, 0, 10, 10, 10, 10, 10, 10, 10, 10, 10, 0, 0, 0, 0,\n                    0, 0, 0, 0, 0, 10, 10, 10, 10, 10, 10, 10, 10, 10, 0, 0, 0, 0,\n                    0, 0, 0, 0, 0, 0, 0, 0, 0, 10, 10, 10, 10, 10, 10, 10, 10, 10,\n                    0, 0, 0, 0, 0, 0, 0, 0, 0, 10, 10, 10, 10, 10, 10, 10, 10, 10,\n                    0, 0, 0, 0, 0, 0, 0, 0, 0, 10, 10, 10, 10, 10, 10, 10, 10, 10,\n                    0, 0, 0, 0, 0, 0, 0, 0, 0, 10, 10, 10, 10, 10, 10, 10, 10, 10,\n                    0, 0, 0, 0, 0, 0, 0, 0, 0, 10, 10, 10, 10, 10, 10, 10, 10]}],\n    'layout': {'template': '...', 'xaxis': {'dtick': 4, 'tick0': 0, 'tickmode': 'linear'}}\n})"
     },
     "execution_count": 25,
     "metadata": {},
     "output_type": "execute_result"
    }
   ],
   "source": [
    "to_graph([0, 4, 8, 8, 8, 8, 8, 8, 8, 12, 8, 8, 8, 8, 8, 8, 8, 8, 8])"
   ],
   "metadata": {
    "collapsed": false,
    "ExecuteTime": {
     "end_time": "2024-04-26T21:44:01.848560Z",
     "start_time": "2024-04-26T21:44:01.717329Z"
    }
   },
   "id": "6fa43f125a73f5d9",
   "execution_count": 25
  },
  {
   "cell_type": "code",
   "outputs": [],
   "source": [
    "def to_bits(lengths: List[int]):\n",
    "    is_high = lengths[0] == 1\n",
    "    values = lengths[1:]\n",
    "    bits = []\n",
    "    if is_high:\n",
    "        bits.append(0)\n",
    "    for l in lengths:\n",
    "        if l == 4:\n",
    "            bits += [0]\n",
    "        if l == 8:\n",
    "            bits += [1, 1, 0]\n",
    "        if l == 12:\n",
    "            bits += [1, 1, 1, 1, 0]\n",
    "    print(bits)\n",
    "    bytes: List[str] = [\"\"]\n",
    "    idx = 0\n",
    "    for b in bits:\n",
    "        if len(bytes[idx]) >= 32:\n",
    "            idx += 1\n",
    "            bytes += [\"\"]\n",
    "        bytes[idx] += str(b)\n",
    "    while len(bytes[idx]) < 32:\n",
    "        bytes[idx] += str(0)\n",
    "    # for s in bytes:\n",
    "    #     print(\"0b\"+s)\n",
    "    return bytes\n"
   ],
   "metadata": {
    "collapsed": false,
    "ExecuteTime": {
     "end_time": "2024-04-26T21:44:01.881054Z",
     "start_time": "2024-04-26T21:44:01.799231Z"
    }
   },
   "id": "8d9dd775a3eb515f",
   "execution_count": 26
  },
  {
   "cell_type": "code",
   "outputs": [
    {
     "name": "stdout",
     "output_type": "stream",
     "text": [
      "[0, 1, 1, 0, 1, 1, 0, 1, 1, 0, 1, 1, 0, 1, 1, 0, 1, 1, 0, 1, 1, 0, 1, 1, 1, 1, 0, 1, 1, 0, 1, 1, 0, 1, 1, 0, 1, 1, 0, 1, 1, 0, 1, 1, 0, 1, 1, 0, 1, 1, 0, 1, 1, 0]\n",
      "['01101101101101101101101111011011', '01101101101101101101100000000000']\n",
      "True\n",
      "0b01101101101101101101101111011011\n",
      "0b01101101101101101101100000000000\n"
     ]
    }
   ],
   "source": [
    "bytes = to_bits([0, 4, 8, 8, 8, 8, 8, 8, 8, 12, 8, 8, 8, 8, 8, 8, 8, 8, 8]);\n",
    "test = [\"01101101101101101101101111011011\",\n",
    "\"01101101101101101101100000000000\"]\n",
    "print(bytes)\n",
    "print(bytes==test)\n",
    "for i in range(len(bytes)):\n",
    "    print(\"0b\" + bytes[i])\n"
   ],
   "metadata": {
    "collapsed": false,
    "ExecuteTime": {
     "end_time": "2024-04-26T22:00:35.513715Z",
     "start_time": "2024-04-26T22:00:35.485605Z"
    }
   },
   "id": "6fb448c7ff3242",
   "execution_count": 32
  },
  {
   "cell_type": "code",
   "outputs": [
    {
     "data": {
      "text/plain": "Button(description='Next ->', style=ButtonStyle())",
      "application/vnd.jupyter.widget-view+json": {
       "version_major": 2,
       "version_minor": 0,
       "model_id": "b63b7a1dd47441c785e5efd4453019d0"
      }
     },
     "metadata": {},
     "output_type": "display_data"
    },
    {
     "data": {
      "application/vnd.jupyter.widget-view+json": {
       "version_major": 2,
       "version_minor": 0,
       "model_id": "8591dc406fad474ebdc5a7f549a4a1a0"
      },
      "text/plain": "FigureWidget({\n    'data': [{'type': 'scatter', 'uid': 'da16da09-3e4b-40ad-a414-1ac31b2a1f06', 'x': [0], 'y': [0]}],\n    'layout': {'template': '...', 'xaxis': {'dtick': 1, 'tick0': 0, 'tickmode': 'linear'}}\n})"
     },
     "metadata": {},
     "output_type": "display_data"
    },
    {
     "data": {
      "text/plain": "Output()",
      "application/vnd.jupyter.widget-view+json": {
       "version_major": 2,
       "version_minor": 0,
       "model_id": "39e24817a8be48a39cb4240a5846c868"
      }
     },
     "metadata": {},
     "output_type": "display_data"
    }
   ],
   "source": [
    "from typing import Callable, Tuple, List\n",
    "import ipywidgets as widgets\n",
    "import plotly.graph_objects as go\n",
    "\n",
    "\n",
    "def next_step_gen() -> Tuple[Callable[[], Tuple[List[int], List[int], str]], List[int], List[int]]:\n",
    "    out_buffer = PioState.create_out_buffer(data)\n",
    "    state = PioState.start(program=program, out_buffer=out_buffer)\n",
    "    x: List[int] = []\n",
    "    y: List[int] = []\n",
    "    if state.internal_pin:\n",
    "        y += [10]\n",
    "    else:\n",
    "        y += [0]\n",
    "    x += [state.step]\n",
    "\n",
    "    def s():\n",
    "        nonlocal x, y\n",
    "        msg=state.process_next_step()\n",
    "        if state.internal_pin:\n",
    "            y += [10]\n",
    "        else:\n",
    "            y += [0]\n",
    "        x += [state.step]\n",
    "        return x, y,msg\n",
    "\n",
    "    return s, x, y\n",
    "\n",
    "\n",
    "next_step, xs, ys = next_step_gen()\n",
    "\n",
    "f = go.FigureWidget()\n",
    "\n",
    "f.add_scatter(y=ys, x=xs)\n",
    "f.update_layout(\n",
    "    xaxis=dict(\n",
    "        tickmode='linear',\n",
    "        tick0=0,\n",
    "        dtick=1\n",
    "    )\n",
    ")\n",
    "scatter = f.data[0]\n",
    "\n",
    "button = widgets.Button(description=\"Next ->\")\n",
    "output = widgets.Output()\n",
    "\n",
    "display(button,f, output)\n",
    "\n",
    "def on_button_clicked(b):\n",
    "  with output:\n",
    "    ix, iy, msg = next_step()\n",
    "    (ix, iy) = make_lines_straight(ix, iy)\n",
    "    scatter.update(y=iy, x=ix)\n",
    "    print(msg)\n",
    "\n",
    "button.on_click(on_button_clicked)"
   ],
   "metadata": {
    "collapsed": false,
    "ExecuteTime": {
     "end_time": "2024-04-26T21:44:02.132984Z",
     "start_time": "2024-04-26T21:44:01.967623Z"
    }
   },
   "id": "bfec1e9fb630c6e6",
   "execution_count": 28
  }
 ],
 "metadata": {
  "kernelspec": {
   "display_name": "Python 3 (ipykernel)",
   "language": "python",
   "name": "python3"
  },
  "language_info": {
   "codemirror_mode": {
    "name": "ipython",
    "version": 3
   },
   "file_extension": ".py",
   "mimetype": "text/x-python",
   "name": "python",
   "nbconvert_exporter": "python",
   "pygments_lexer": "ipython3",
   "version": "3.12.3"
  }
 },
 "nbformat": 4,
 "nbformat_minor": 5
}
