{
 "cells": [
  {
   "cell_type": "code",
   "execution_count": 1,
   "id": "initial_id",
   "metadata": {
    "ExecuteTime": {
     "end_time": "2024-04-25T22:10:12.351396Z",
     "start_time": "2024-04-25T22:10:12.080093Z"
    }
   },
   "outputs": [],
   "source": [
    "from generate_python_script import PioState,EmptyOutBufferException"
   ]
  },
  {
   "cell_type": "code",
   "execution_count": 2,
   "id": "9487ecf243c426a2",
   "metadata": {
    "ExecuteTime": {
     "end_time": "2024-04-25T22:10:12.368860Z",
     "start_time": "2024-04-25T22:10:12.363387Z"
    },
    "collapsed": false,
    "jupyter": {
     "outputs_hidden": false
    }
   },
   "outputs": [],
   "source": [
    "def get_program_text() -> str:\n",
    "    with open(\"test.pio\", \"r\") as file1:\n",
    "        # Reading from a file\n",
    "        return file1.read()\n",
    "program:str = get_program_text()"
   ]
  },
  {
   "cell_type": "code",
   "execution_count": 3,
   "id": "ccc18fd8f285ff8e",
   "metadata": {
    "ExecuteTime": {
     "end_time": "2024-04-25T22:10:12.385291Z",
     "start_time": "2024-04-25T22:10:12.372460Z"
    },
    "collapsed": false,
    "jupyter": {
     "outputs_hidden": false
    }
   },
   "outputs": [],
   "source": [
    "data:int = 0b01101011110000111110100000010110"
   ]
  },
  {
   "cell_type": "code",
   "execution_count": 4,
   "id": "a5a284e09a9102c2",
   "metadata": {
    "ExecuteTime": {
     "end_time": "2024-04-25T22:10:12.403748Z",
     "start_time": "2024-04-25T22:10:12.384980Z"
    },
    "collapsed": false,
    "jupyter": {
     "outputs_hidden": false
    }
   },
   "outputs": [],
   "source": [
    "from typing import  Tuple\n",
    "\n",
    "def get_x_and_y()->Tuple[int, int]:\n",
    "    out_buffer=PioState.create_out_buffer([0,data])\n",
    "    state = PioState.start(program=program, out_buffer=out_buffer)\n",
    "    x = []\n",
    "    y = []\n",
    "    try:\n",
    "        while True:\n",
    "            if state.internal_pin:\n",
    "                y += [10]\n",
    "            else:\n",
    "                y += [0]\n",
    "            x += [state.step]\n",
    "            \n",
    "            state.process_next_step()\n",
    "    except EmptyOutBufferException:\n",
    "        \n",
    "        return x,y\n"
   ]
  },
  {
   "cell_type": "code",
   "execution_count": 5,
   "id": "1394c552cb5a1fc7",
   "metadata": {
    "ExecuteTime": {
     "start_time": "2024-04-25T22:10:12.398763Z"
    },
    "collapsed": false,
    "is_executing": true,
    "jupyter": {
     "outputs_hidden": false
    }
   },
   "outputs": [],
   "source": [
    "\n",
    "import ipywidgets as widgets\n",
    "import plotly.graph_objects as go\n",
    "\n",
    "\n",
    "\n",
    "(x,y) = get_x_and_y()\n",
    "f = go.FigureWidget()\n",
    "f.add_scatter(y=y, x=x)\n",
    "def update_plot(initial:Tuple[int,int] = (1,1)):\n",
    "    scatter = f.data[0]\n",
    "    scatter.y = y[initial[0]:initial[1]]\n",
    "    scatter.x = x[initial[0]:initial[1]]\n",
    "\n",
    "data_range = widgets.IntRangeSlider(\n",
    "    value=[0, x[-1]],\n",
    "    min=0,\n",
    "    max=x[-1],\n",
    "    step=1,\n",
    "    description='Test:',\n",
    "    disabled=False,\n",
    "    # continuous_update=False,\n",
    "    orientation='horizontal',\n",
    "    readout=True,\n",
    "    readout_format='d',\n",
    "    layout=widgets.Layout(width='100%')\n",
    ")\n",
    "\n",
    "slider = widgets.interactive(update_plot, initial=data_range)\n"
   ]
  },
  {
   "cell_type": "code",
   "execution_count": 6,
   "id": "8c8c45031548e680",
   "metadata": {
    "ExecuteTime": {
     "start_time": "2024-04-25T22:10:13.004549Z"
    },
    "collapsed": false,
    "jupyter": {
     "outputs_hidden": false
    }
   },
   "outputs": [
    {
     "data": {
      "application/vnd.jupyter.widget-view+json": {
       "model_id": "de43ff099d2c471bb9f1075fd8a8c9c3",
       "version_major": 2,
       "version_minor": 0
      },
      "text/plain": [
       "interactive(children=(IntRangeSlider(value=(0, 1067), description='Test:', layout=Layout(width='100%'), max=10…"
      ]
     },
     "execution_count": 6,
     "metadata": {},
     "output_type": "execute_result"
    }
   ],
   "source": [
    "slider"
   ]
  },
  {
   "cell_type": "code",
   "execution_count": 7,
   "id": "8334721a311aa9b5",
   "metadata": {
    "ExecuteTime": {
     "end_time": "2024-04-25T22:10:13.024212Z",
     "start_time": "2024-04-25T22:10:13.014593Z"
    },
    "collapsed": false,
    "jupyter": {
     "outputs_hidden": false
    }
   },
   "outputs": [
    {
     "data": {
      "application/vnd.jupyter.widget-view+json": {
       "model_id": "e9a5884dd96c4791a9883a38920492e6",
       "version_major": 2,
       "version_minor": 0
      },
      "text/plain": [
       "FigureWidget({\n",
       "    'data': [{'type': 'scatter',\n",
       "              'uid': 'd6c43de2-5f2a-4af5-822d-f4ea808226c3',\n",
       "              'x': [0, 1, 2, ..., 1016, 1017, 1018],\n",
       "              'y': [0, 10, 10, ..., 0, 0, 0]}],\n",
       "    'layout': {'template': '...'}\n",
       "})"
      ]
     },
     "execution_count": 7,
     "metadata": {},
     "output_type": "execute_result"
    }
   ],
   "source": [
    "f"
   ]
  }
 ],
 "metadata": {
  "kernelspec": {
   "display_name": "Python 3 (ipykernel)",
   "language": "python",
   "name": "python3"
  },
  "language_info": {
   "codemirror_mode": {
    "name": "ipython",
    "version": 3
   },
   "file_extension": ".py",
   "mimetype": "text/x-python",
   "name": "python",
   "nbconvert_exporter": "python",
   "pygments_lexer": "ipython3",
   "version": "3.12.3"
  }
 },
 "nbformat": 4,
 "nbformat_minor": 5
}
