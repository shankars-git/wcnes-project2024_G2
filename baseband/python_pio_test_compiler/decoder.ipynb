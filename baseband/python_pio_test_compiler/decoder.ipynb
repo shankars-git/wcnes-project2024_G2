{
 "cells": [
  {
   "cell_type": "code",
   "execution_count": 79,
   "id": "8fffa05aa58983c1",
   "metadata": {
    "collapsed": false,
    "ExecuteTime": {
     "end_time": "2024-05-07T20:38:50.911748Z",
     "start_time": "2024-05-07T20:38:50.902821Z"
    }
   },
   "outputs": [],
   "source": [
    "from typing import List, Dict"
   ]
  },
  {
   "cell_type": "code",
   "outputs": [],
   "source": [
    "# data = \"01101101101101101101100011011011011011011011011011011011011011011011000\"\n",
    "data = \"01101101101101101101100011011011011011011011011011011011011011011011011110110110110110110110110110110110110110110110111111011011011011011011011011011011011011011011011111101101101101101101101101101101101101101101101100110110110110110110110110110110110110110110110011011011011011011011011011011011011011011011011001101101101101101101101101101101101101101101100011011011011011011011011011011011011011011011011011011011011011011011011011011011011011011011011011011011011011011011011011011011011011011011000000000000\""
   ],
   "metadata": {
    "collapsed": true,
    "ExecuteTime": {
     "end_time": "2024-05-07T20:38:50.943629Z",
     "start_time": "2024-05-07T20:38:50.912128Z"
    }
   },
   "id": "initial_id",
   "execution_count": 80
  },
  {
   "cell_type": "code",
   "outputs": [],
   "source": [
    "def get_lengths(digit_list: List[str]) -> List[int]:\n",
    "    output_list: List[int] = []\n",
    "    count1 = 0\n",
    "    for idx, digit in enumerate(digit_list):\n",
    "        if digit == \"1\":\n",
    "            count1 += 1\n",
    "        if digit == \"0\":\n",
    "            output_list.append((count1 * 2) + 4)\n",
    "            count1 = 0\n",
    "    return output_list"
   ],
   "metadata": {
    "collapsed": false,
    "ExecuteTime": {
     "end_time": "2024-05-07T20:38:50.945366Z",
     "start_time": "2024-05-07T20:38:50.924221Z"
    }
   },
   "id": "8e0e9db55e0bdf62",
   "execution_count": 81
  },
  {
   "cell_type": "code",
   "outputs": [
    {
     "data": {
      "text/plain": "[4,\n 8,\n 8,\n 8,\n 8,\n 8,\n 8,\n 8,\n 4,\n 4,\n 8,\n 8,\n 8,\n 8,\n 8,\n 8,\n 8,\n 8,\n 8,\n 8,\n 8,\n 8,\n 8,\n 8,\n 8,\n 12,\n 8,\n 8,\n 8,\n 8,\n 8,\n 8,\n 8,\n 8,\n 8,\n 8,\n 8,\n 8,\n 8,\n 8,\n 16,\n 8,\n 8,\n 8,\n 8,\n 8,\n 8,\n 8,\n 8,\n 8,\n 8,\n 8,\n 8,\n 8,\n 8,\n 16,\n 8,\n 8,\n 8,\n 8,\n 8,\n 8,\n 8,\n 8,\n 8,\n 8,\n 8,\n 8,\n 8,\n 8,\n 8,\n 4,\n 8,\n 8,\n 8,\n 8,\n 8,\n 8,\n 8,\n 8,\n 8,\n 8,\n 8,\n 8,\n 8,\n 8,\n 8,\n 4,\n 8,\n 8,\n 8,\n 8,\n 8,\n 8,\n 8,\n 8,\n 8,\n 8,\n 8,\n 8,\n 8,\n 8,\n 8,\n 8,\n 4,\n 8,\n 8,\n 8,\n 8,\n 8,\n 8,\n 8,\n 8,\n 8,\n 8,\n 8,\n 8,\n 8,\n 8,\n 8,\n 4,\n 4,\n 8,\n 8,\n 8,\n 8,\n 8,\n 8,\n 8,\n 8,\n 8,\n 8,\n 8,\n 8,\n 8,\n 8,\n 8,\n 8,\n 8,\n 8,\n 8,\n 8,\n 8,\n 8,\n 8,\n 8,\n 8,\n 8,\n 8,\n 8,\n 8,\n 8,\n 8,\n 8,\n 8,\n 8,\n 8,\n 8,\n 8,\n 8,\n 8,\n 8,\n 8,\n 8,\n 8,\n 8,\n 8,\n 8,\n 8,\n 4,\n 4,\n 4,\n 4,\n 4,\n 4,\n 4,\n 4,\n 4,\n 4,\n 4]"
     },
     "execution_count": 82,
     "metadata": {},
     "output_type": "execute_result"
    }
   ],
   "source": [
    "get_lengths(data)"
   ],
   "metadata": {
    "collapsed": false,
    "ExecuteTime": {
     "end_time": "2024-05-07T20:38:50.946410Z",
     "start_time": "2024-05-07T20:38:50.933806Z"
    }
   },
   "id": "692658b0824d325c",
   "execution_count": 82
  },
  {
   "cell_type": "code",
   "outputs": [],
   "source": [
    "wave_dict: Dict[str, str] = {\n",
    "    \"0000000011111111\": \"00\",\n",
    "    \"0000111111110000\": \"01\",\n",
    "    \"1111000000001111\": \"10\",\n",
    "    \"1111111100000000\": \"11\",\n",
    "}"
   ],
   "metadata": {
    "collapsed": false,
    "ExecuteTime": {
     "end_time": "2024-05-07T20:38:51.000340Z",
     "start_time": "2024-05-07T20:38:50.948186Z"
    }
   },
   "id": "6697bc41d0f61c03",
   "execution_count": 83
  },
  {
   "cell_type": "code",
   "outputs": [],
   "source": [
    "def into_wave_lengths(input_data: List[int], repeat: int = 1) -> List[int]:\n",
    "    is_state_zero = True\n",
    "    if input_data[0:3] == [4, 8, 8]:\n",
    "        input_data = input_data[1:]\n",
    "    \n",
    "    waves: List[int] = []\n",
    "    \n",
    "    for i in input_data:\n",
    "        for j in range(i):\n",
    "            if is_state_zero:\n",
    "                waves.append(0)\n",
    "            else:\n",
    "                waves.append(1)\n",
    "        is_state_zero = not is_state_zero\n",
    "\n",
    "    wave_str = \"\".join([str(x) for x in waves])\n",
    "    print(wave_str)\n",
    "    symbols: List[int] = []\n",
    "    for i in range(int(len(wave_str) / 16)):\n",
    "        # print(wave_str[16*i:16+(16*i)])\n",
    "        symbol = wave_dict[wave_str[16 * i:16 + (16 * i)]]\n",
    "        symbols.append(symbol)\n",
    "    print(symbols)\n",
    "    unrepeated = []\n",
    "    if repeat > 1:\n",
    "        for i in range(0, len(symbols), repeat):\n",
    "            val = symbols[i]\n",
    "            for j in range(repeat - 1):\n",
    "                if val != symbols[i + j]:\n",
    "                    raise ValueError(f\"index {i},{symbols[i]} is not repeating correctly at {i + j}: {symbols[i + j]}\")\n",
    "            unrepeated.append(val)\n",
    "    print(unrepeated)\n",
    "    # return unrepeated\n",
    "\n",
    "\n",
    "\n",
    "\n",
    "\n"
   ],
   "metadata": {
    "collapsed": false,
    "ExecuteTime": {
     "end_time": "2024-05-07T20:39:50.151313Z",
     "start_time": "2024-05-07T20:39:50.146442Z"
    }
   },
   "id": "c5bb8ddc46d294af",
   "execution_count": 90
  },
  {
   "cell_type": "code",
   "outputs": [
    {
     "name": "stdout",
     "output_type": "stream",
     "text": [
      "000000001111111100000000111111110000000011111111000000001111000011111111000000001111111100000000111111110000000011111111000000001111111100000000111111110000000011111111000000001111111100000000000011111111000000001111111100000000111111110000000011111111000000001111111100000000111111110000000011111111000000001111111111111111000000001111111100000000111111110000000011111111000000001111111100000000111111110000000011111111000000001111111100000000000000001111111100000000111111110000000011111111000000001111111100000000111111110000000011111111000000001111111100000000111111110000111111110000000011111111000000001111111100000000111111110000000011111111000000001111111100000000111111110000000011111111000011111111000000001111111100000000111111110000000011111111000000001111111100000000111111110000000011111111000000001111111100000000111100000000111111110000000011111111000000001111111100000000111111110000000011111111000000001111111100000000111111110000000011110000111111110000000011111111000000001111111100000000111111110000000011111111000000001111111100000000111111110000000011111111000000001111111100000000111111110000000011111111000000001111111100000000111111110000000011111111000000001111111100000000111111110000000011111111000000001111111100000000111111110000000011111111000000001111111100000000111111110000000011111111000000001111111100001111000011110000111100001111000011110000\n"
     ]
    },
    {
     "ename": "KeyError",
     "evalue": "'0000000011110000'",
     "output_type": "error",
     "traceback": [
      "\u001B[0;31m---------------------------------------------------------------------------\u001B[0m",
      "\u001B[0;31mKeyError\u001B[0m                                  Traceback (most recent call last)",
      "Cell \u001B[0;32mIn[91], line 1\u001B[0m\n\u001B[0;32m----> 1\u001B[0m \u001B[43minto_wave_lengths\u001B[49m\u001B[43m(\u001B[49m\u001B[43mget_lengths\u001B[49m\u001B[43m(\u001B[49m\u001B[43mdata\u001B[49m\u001B[43m)\u001B[49m\u001B[43m,\u001B[49m\u001B[43m \u001B[49m\u001B[38;5;241;43m4\u001B[39;49m\u001B[43m)\u001B[49m\n",
      "Cell \u001B[0;32mIn[90], line 21\u001B[0m, in \u001B[0;36minto_wave_lengths\u001B[0;34m(input_data, repeat)\u001B[0m\n\u001B[1;32m     18\u001B[0m symbols: List[\u001B[38;5;28mint\u001B[39m] \u001B[38;5;241m=\u001B[39m []\n\u001B[1;32m     19\u001B[0m \u001B[38;5;28;01mfor\u001B[39;00m i \u001B[38;5;129;01min\u001B[39;00m \u001B[38;5;28mrange\u001B[39m(\u001B[38;5;28mint\u001B[39m(\u001B[38;5;28mlen\u001B[39m(wave_str) \u001B[38;5;241m/\u001B[39m \u001B[38;5;241m16\u001B[39m)):\n\u001B[1;32m     20\u001B[0m     \u001B[38;5;66;03m# print(wave_str[16*i:16+(16*i)])\u001B[39;00m\n\u001B[0;32m---> 21\u001B[0m     symbol \u001B[38;5;241m=\u001B[39m \u001B[43mwave_dict\u001B[49m\u001B[43m[\u001B[49m\u001B[43mwave_str\u001B[49m\u001B[43m[\u001B[49m\u001B[38;5;241;43m16\u001B[39;49m\u001B[43m \u001B[49m\u001B[38;5;241;43m*\u001B[39;49m\u001B[43m \u001B[49m\u001B[43mi\u001B[49m\u001B[43m:\u001B[49m\u001B[38;5;241;43m16\u001B[39;49m\u001B[43m \u001B[49m\u001B[38;5;241;43m+\u001B[39;49m\u001B[43m \u001B[49m\u001B[43m(\u001B[49m\u001B[38;5;241;43m16\u001B[39;49m\u001B[43m \u001B[49m\u001B[38;5;241;43m*\u001B[39;49m\u001B[43m \u001B[49m\u001B[43mi\u001B[49m\u001B[43m)\u001B[49m\u001B[43m]\u001B[49m\u001B[43m]\u001B[49m\n\u001B[1;32m     22\u001B[0m     symbols\u001B[38;5;241m.\u001B[39mappend(symbol)\n\u001B[1;32m     23\u001B[0m \u001B[38;5;28mprint\u001B[39m(symbols)\n",
      "\u001B[0;31mKeyError\u001B[0m: '0000000011110000'"
     ]
    }
   ],
   "source": [
    "into_wave_lengths(get_lengths(data), 4)"
   ],
   "metadata": {
    "collapsed": false,
    "ExecuteTime": {
     "end_time": "2024-05-07T20:39:50.403848Z",
     "start_time": "2024-05-07T20:39:50.358691Z"
    }
   },
   "id": "6ac84b7f54cde687",
   "execution_count": 91
  },
  {
   "cell_type": "code",
   "outputs": [],
   "source": [],
   "metadata": {
    "collapsed": false,
    "ExecuteTime": {
     "end_time": "2024-05-07T20:38:51.019589Z",
     "start_time": "2024-05-07T20:38:50.985206Z"
    }
   },
   "id": "2b0b86598302ff8",
   "execution_count": 85
  },
  {
   "cell_type": "code",
   "outputs": [],
   "source": [],
   "metadata": {
    "collapsed": false,
    "ExecuteTime": {
     "end_time": "2024-05-07T20:38:51.053179Z",
     "start_time": "2024-05-07T20:38:51.008213Z"
    }
   },
   "id": "be45faf0420eba2a",
   "execution_count": 85
  },
  {
   "cell_type": "code",
   "outputs": [],
   "source": [],
   "metadata": {
    "collapsed": false,
    "ExecuteTime": {
     "end_time": "2024-05-07T20:38:51.071305Z",
     "start_time": "2024-05-07T20:38:51.057632Z"
    }
   },
   "id": "282ca4167739d617",
   "execution_count": 85
  }
 ],
 "metadata": {
  "kernelspec": {
   "display_name": "Python 3",
   "language": "python",
   "name": "python3"
  },
  "language_info": {
   "codemirror_mode": {
    "name": "ipython",
    "version": 2
   },
   "file_extension": ".py",
   "mimetype": "text/x-python",
   "name": "python",
   "nbconvert_exporter": "python",
   "pygments_lexer": "ipython2",
   "version": "2.7.6"
  }
 },
 "nbformat": 4,
 "nbformat_minor": 5
}
