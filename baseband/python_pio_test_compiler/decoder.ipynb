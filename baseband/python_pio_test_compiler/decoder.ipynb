{
 "cells": [
  {
   "cell_type": "code",
   "execution_count": 23,
   "id": "8fffa05aa58983c1",
   "metadata": {
    "collapsed": false,
    "ExecuteTime": {
     "end_time": "2024-05-07T19:56:58.962384Z",
     "start_time": "2024-05-07T19:56:58.955200Z"
    }
   },
   "outputs": [],
   "source": [
    "from typing import List, Dict"
   ]
  },
  {
   "cell_type": "code",
   "outputs": [],
   "source": [
    "data = \"01101101101101101101100011011011011011011011011011011011011011011011000\""
   ],
   "metadata": {
    "collapsed": true,
    "ExecuteTime": {
     "end_time": "2024-05-07T19:59:55.239760Z",
     "start_time": "2024-05-07T19:59:55.227736Z"
    }
   },
   "id": "initial_id",
   "execution_count": 42
  },
  {
   "cell_type": "code",
   "outputs": [],
   "source": [
    "def get_lengths(digit_list: List[str]) -> List[int]:\n",
    "    output_list: List[int] = []\n",
    "    count1 = 0\n",
    "    for idx, digit in enumerate(digit_list):\n",
    "        if digit == \"1\":\n",
    "            count1 += 1\n",
    "        if digit == \"0\":\n",
    "            output_list.append((count1 * 2) + 4)\n",
    "            count1 = 0\n",
    "    return output_list"
   ],
   "metadata": {
    "collapsed": false,
    "ExecuteTime": {
     "end_time": "2024-05-07T19:59:56.458940Z",
     "start_time": "2024-05-07T19:59:56.453357Z"
    }
   },
   "id": "8e0e9db55e0bdf62",
   "execution_count": 43
  },
  {
   "cell_type": "code",
   "outputs": [
    {
     "data": {
      "text/plain": "[4,\n 8,\n 8,\n 8,\n 8,\n 8,\n 8,\n 8,\n 4,\n 4,\n 8,\n 8,\n 8,\n 8,\n 8,\n 8,\n 8,\n 8,\n 8,\n 8,\n 8,\n 8,\n 8,\n 8,\n 8,\n 4,\n 4]"
     },
     "execution_count": 44,
     "metadata": {},
     "output_type": "execute_result"
    }
   ],
   "source": [
    "get_lengths(data)"
   ],
   "metadata": {
    "collapsed": false,
    "ExecuteTime": {
     "end_time": "2024-05-07T19:59:56.836817Z",
     "start_time": "2024-05-07T19:59:56.829753Z"
    }
   },
   "id": "692658b0824d325c",
   "execution_count": 44
  },
  {
   "cell_type": "code",
   "outputs": [],
   "source": [
    "wave_dict: Dict[str, str] = {\n",
    "    \"0000000011111111\": \"00\",\n",
    "    \"0000111111110000\": \"01\",\n",
    "    \"1111000000001111\": \"10\",\n",
    "    \"1111111100000000\": \"11\",\n",
    "}"
   ],
   "metadata": {
    "collapsed": false,
    "ExecuteTime": {
     "end_time": "2024-05-07T20:06:05.213644Z",
     "start_time": "2024-05-07T20:06:05.202923Z"
    }
   },
   "id": "6697bc41d0f61c03",
   "execution_count": 59
  },
  {
   "cell_type": "code",
   "outputs": [],
   "source": [
    "def into_wave_lengths(data: List[int], repeat: int = 1) -> List[int]:\n",
    "    is_state_zero = True\n",
    "    waves: List[int] = []\n",
    "    for i in data:\n",
    "        for j in range(i):\n",
    "            if is_state_zero:\n",
    "                waves.append(0)\n",
    "            else:\n",
    "                waves.append(1)\n",
    "        is_state_zero = not is_state_zero\n",
    "    wave_str = \"\".join([str(x) for x in waves])\n",
    "    symbols: List[int] = []\n",
    "    for i in range(int(len(wave_str) / 16)):\n",
    "        # print(wave_str[16*i:16+(16*i)])\n",
    "        symbol = wave_dict[wave_str[16 * i:16 + (16 * i)]]\n",
    "        symbols.append(symbol)\n",
    "    unrepeated = []\n",
    "    if repeat > 1:\n",
    "        for i in range(0, len(symbols), repeat):\n",
    "            val = symbols[i]\n",
    "            for j in range(repeat - 1):\n",
    "                if val != symbols[i + j]:\n",
    "                    raise ValueError(f\"index {i},{symbols[i]} is not repeating correctly at {i + j}: {symbols[i + j]}\")\n",
    "            unrepeated.append(val)\n",
    "    print(unrepeated)\n",
    "    # return unrepeated\n",
    "\n",
    "\n",
    "\n",
    "\n",
    "\n"
   ],
   "metadata": {
    "collapsed": false,
    "ExecuteTime": {
     "end_time": "2024-05-07T20:14:48.750738Z",
     "start_time": "2024-05-07T20:14:48.732796Z"
    }
   },
   "id": "c5bb8ddc46d294af",
   "execution_count": 62
  },
  {
   "cell_type": "code",
   "outputs": [
    {
     "name": "stdout",
     "output_type": "stream",
     "text": [
      "['01', '10', '10']\n"
     ]
    }
   ],
   "source": [
    "into_wave_lengths(get_lengths(data), 4)"
   ],
   "metadata": {
    "collapsed": false,
    "ExecuteTime": {
     "end_time": "2024-05-07T20:14:49.299222Z",
     "start_time": "2024-05-07T20:14:49.288800Z"
    }
   },
   "id": "6ac84b7f54cde687",
   "execution_count": 63
  },
  {
   "cell_type": "code",
   "outputs": [],
   "source": [],
   "metadata": {
    "collapsed": false,
    "ExecuteTime": {
     "end_time": "2024-05-07T20:05:58.405435Z",
     "start_time": "2024-05-07T20:05:58.397804Z"
    }
   },
   "id": "2b0b86598302ff8",
   "execution_count": 58
  },
  {
   "cell_type": "code",
   "outputs": [],
   "source": [],
   "metadata": {
    "collapsed": false,
    "ExecuteTime": {
     "end_time": "2024-05-07T20:05:58.805810Z",
     "start_time": "2024-05-07T20:05:58.787828Z"
    }
   },
   "id": "be45faf0420eba2a",
   "execution_count": 58
  },
  {
   "cell_type": "code",
   "outputs": [],
   "source": [],
   "metadata": {
    "collapsed": false
   },
   "id": "282ca4167739d617"
  }
 ],
 "metadata": {
  "kernelspec": {
   "display_name": "Python 3",
   "language": "python",
   "name": "python3"
  },
  "language_info": {
   "codemirror_mode": {
    "name": "ipython",
    "version": 2
   },
   "file_extension": ".py",
   "mimetype": "text/x-python",
   "name": "python",
   "nbconvert_exporter": "python",
   "pygments_lexer": "ipython2",
   "version": "2.7.6"
  }
 },
 "nbformat": 4,
 "nbformat_minor": 5
}
