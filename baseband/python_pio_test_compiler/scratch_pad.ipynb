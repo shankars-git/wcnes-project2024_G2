{
 "cells": [
  {
   "cell_type": "code",
   "outputs": [],
   "source": [
    "import functools\n",
    "from typing import List\n",
    "import re"
   ],
   "metadata": {
    "collapsed": false,
    "ExecuteTime": {
     "end_time": "2024-04-26T20:14:40.887604Z",
     "start_time": "2024-04-26T20:14:40.876938Z"
    }
   },
   "id": "5d6f086efe44895c",
   "execution_count": 1
  },
  {
   "cell_type": "code",
   "outputs": [],
   "source": [
    "CMDS = [\"SET\", \"OUT\", \"WAIT\",\"OUT\", \"JMP\", \"MOV\"]\n",
    "DIRECTIVES = [\".wrap_target\", \".wrap\"]"
   ],
   "metadata": {
    "collapsed": false,
    "ExecuteTime": {
     "end_time": "2024-04-26T20:14:40.890896Z",
     "start_time": "2024-04-26T20:14:40.884150Z"
    }
   },
   "id": "4f02f5ee543c4083",
   "execution_count": 2
  },
  {
   "cell_type": "code",
   "outputs": [],
   "source": [
    "def get_program_text() -> str:\n",
    "    with open(\"test2.pio\", \"r\") as file1:\n",
    "        # Reading from a file\n",
    "        return file1.read()\n",
    "program:str = get_program_text()"
   ],
   "metadata": {
    "collapsed": false,
    "ExecuteTime": {
     "end_time": "2024-04-26T20:14:58.665370Z",
     "start_time": "2024-04-26T20:14:58.658654Z"
    }
   },
   "id": "1403629994a7659e",
   "execution_count": 6
  },
  {
   "cell_type": "code",
   "outputs": [
    {
     "data": {
      "text/plain": "['.wrap_target',\n 'SET  pins   0 [1]',\n 'loop1:',\n 'OUT     x  1',\n 'JMP x-- loop1',\n 'SET  pins   1 [1]',\n 'loop2:',\n 'OUT     y  1',\n 'JMP y-- loop2',\n '.wrap']"
     },
     "execution_count": 7,
     "metadata": {},
     "output_type": "execute_result"
    }
   ],
   "source": [
    "[v[0].strip() for v in [x.split(\";\") for x in program.split(\"\\n\")]]\n"
   ],
   "metadata": {
    "collapsed": false,
    "ExecuteTime": {
     "end_time": "2024-04-26T20:14:58.959928Z",
     "start_time": "2024-04-26T20:14:58.939533Z"
    }
   },
   "id": "9fb9fd9a779f726b",
   "execution_count": 7
  },
  {
   "cell_type": "code",
   "outputs": [],
   "source": [
    "pins = {}"
   ],
   "metadata": {
    "collapsed": false,
    "ExecuteTime": {
     "end_time": "2024-04-25T19:23:27.434780Z",
     "start_time": "2024-04-25T19:23:27.348472Z"
    }
   },
   "id": "9e69dc13457eb1dc",
   "execution_count": 5
  },
  {
   "cell_type": "code",
   "outputs": [],
   "source": [
    "pins[1] = 0\n"
   ],
   "metadata": {
    "collapsed": false,
    "ExecuteTime": {
     "end_time": "2024-04-25T19:23:27.438777Z",
     "start_time": "2024-04-25T19:23:27.358508Z"
    }
   },
   "id": "23f74795c8125b27",
   "execution_count": 6
  },
  {
   "cell_type": "code",
   "outputs": [
    {
     "name": "stdout",
     "output_type": "stream",
     "text": [
      "0\n"
     ]
    }
   ],
   "source": [
    "print(pins.get(1))"
   ],
   "metadata": {
    "collapsed": false,
    "ExecuteTime": {
     "end_time": "2024-04-25T19:23:27.471015Z",
     "start_time": "2024-04-25T19:23:27.369572Z"
    }
   },
   "id": "a1ae272054843f7",
   "execution_count": 7
  },
  {
   "cell_type": "code",
   "outputs": [],
   "source": [
    "def get_input_bits_as_int(out_buffer: List[int], num_of_bits: int) -> int:\n",
    "        d:int = 0\n",
    "        for i in range(num_of_bits):\n",
    "            d = (d << 1) | out_buffer.pop()\n",
    "        return d"
   ],
   "metadata": {
    "collapsed": false,
    "ExecuteTime": {
     "end_time": "2024-04-25T19:23:27.512260Z",
     "start_time": "2024-04-25T19:23:27.376884Z"
    }
   },
   "id": "b78a34a028d50026",
   "execution_count": 8
  },
  {
   "cell_type": "code",
   "outputs": [
    {
     "data": {
      "text/plain": "21"
     },
     "execution_count": 9,
     "metadata": {},
     "output_type": "execute_result"
    }
   ],
   "source": [
    "get_input_bits_as_int([1,1,0,1,0,1,0,1,0,1], 5)"
   ],
   "metadata": {
    "collapsed": false,
    "ExecuteTime": {
     "end_time": "2024-04-25T19:23:27.529459Z",
     "start_time": "2024-04-25T19:23:27.388729Z"
    }
   },
   "id": "8f143ed0c702bc1e",
   "execution_count": 9
  },
  {
   "cell_type": "code",
   "outputs": [
    {
     "name": "stdout",
     "output_type": "stream",
     "text": [
      "11\n"
     ]
    }
   ],
   "source": [
    "str1 = \"    OUT  x  1          ; get data bit\"\n",
    "str2 = \"            SET pins 1 [11] \"\n",
    "delay = re.sub(r'.+\\[(\\d+)\\].+', '$1', str1.strip())\n",
    "delay2 = re.sub(r'.+\\[(\\d+)\\].+', '$1', str2.strip())\n",
    "str2.strip().split(\"[\")[1].split(\"]\")[0]\n",
    "s1 = str2.strip().split(\"[\")\n",
    "if(len(s1)>1):\n",
    "    print(s1[1].split(\"]\")[0])\n",
    "    \n",
    "\n",
    "\n",
    "\n"
   ],
   "metadata": {
    "collapsed": false,
    "ExecuteTime": {
     "end_time": "2024-04-25T19:23:27.532699Z",
     "start_time": "2024-04-25T19:23:27.412521Z"
    }
   },
   "id": "3a12dd0f26f437f9",
   "execution_count": 10
  },
  {
   "cell_type": "code",
   "outputs": [],
   "source": [
    "import math\n",
    "\n",
    "\n",
    "def number_as_bits(num:int) -> List[int]:\n",
    "    # from https://stackoverflow.com/questions/30971079/how-to-convert-an-integer-to-a-list-of-bits\n",
    "    bits = int(max(8, math.log(num, 2) + 1))\n",
    "    out = [1 if num & (1 << (bits - 1 - n)) else 0 for n in range(bits)]\n",
    "    return out"
   ],
   "metadata": {
    "collapsed": false,
    "ExecuteTime": {
     "end_time": "2024-04-25T19:23:27.551675Z",
     "start_time": "2024-04-25T19:23:27.429820Z"
    }
   },
   "id": "c1c8674eda4bc533",
   "execution_count": 11
  },
  {
   "cell_type": "code",
   "outputs": [
    {
     "data": {
      "text/plain": "[0, 1, 0, 1, 0, 0, 0, 0]"
     },
     "execution_count": 12,
     "metadata": {},
     "output_type": "execute_result"
    }
   ],
   "source": [
    "n = number_as_bits(10)\n",
    "n.reverse()\n",
    "n"
   ],
   "metadata": {
    "collapsed": false,
    "ExecuteTime": {
     "end_time": "2024-04-25T19:23:27.568748Z",
     "start_time": "2024-04-25T19:23:27.450327Z"
    }
   },
   "id": "a66ebadbc73d373c",
   "execution_count": 12
  },
  {
   "cell_type": "code",
   "outputs": [
    {
     "data": {
      "text/plain": "10"
     },
     "execution_count": 13,
     "metadata": {},
     "output_type": "execute_result"
    }
   ],
   "source": [
    "l = number_as_bits(10)\n",
    "l.reverse()\n",
    "get_input_bits_as_int(l, 8)"
   ],
   "metadata": {
    "collapsed": false,
    "ExecuteTime": {
     "end_time": "2024-04-25T19:23:27.572941Z",
     "start_time": "2024-04-25T19:23:27.462877Z"
    }
   },
   "id": "10b82a81bb14e95c",
   "execution_count": 13
  },
  {
   "cell_type": "code",
   "outputs": [],
   "source": [
    "from generate_python_script import PioState"
   ],
   "metadata": {
    "collapsed": false,
    "ExecuteTime": {
     "end_time": "2024-04-25T19:23:28.215616Z",
     "start_time": "2024-04-25T19:23:27.509764Z"
    }
   },
   "id": "349f0828c4d2fe01",
   "execution_count": 14
  },
  {
   "cell_type": "code",
   "outputs": [],
   "source": [
    "data:int = 0b01101011110000111110100000010100\n"
   ],
   "metadata": {
    "collapsed": false,
    "ExecuteTime": {
     "end_time": "2024-04-25T20:20:48.842050Z",
     "start_time": "2024-04-25T20:20:48.837107Z"
    }
   },
   "id": "5036574969b1a216",
   "execution_count": 13
  },
  {
   "cell_type": "code",
   "outputs": [
    {
     "name": "stdout",
     "output_type": "stream",
     "text": [
      "[0, 0, 1, 0, 1, 0, 0, 0, 0, 0, 0, 1, 0, 1, 1, 1, 1, 1, 0, 0, 0, 0, 1, 1, 1, 1, 0, 1, 0, 1, 1, 0]\n"
     ]
    }
   ],
   "source": [
    "num = 0b11010100\n",
    "\n",
    "bits = []\n",
    "for i in range(32):\n",
    "    bit= (data>>i) & 0b1\n",
    "    bits.append(bit)\n",
    "print(bits)"
   ],
   "metadata": {
    "collapsed": false,
    "ExecuteTime": {
     "end_time": "2024-04-25T20:20:50.238939Z",
     "start_time": "2024-04-25T20:20:50.234876Z"
    }
   },
   "id": "c446fa8eb8ae603a",
   "execution_count": 14
  },
  {
   "cell_type": "code",
   "outputs": [],
   "source": [],
   "metadata": {
    "collapsed": false
   },
   "id": "2bd8405273f701ab"
  },
  {
   "cell_type": "code",
   "outputs": [
    {
     "data": {
      "application/vnd.jupyter.widget-view+json": {
       "version_major": 2,
       "version_minor": 0,
       "model_id": "58953f2cec2548a19f963a553700fa97"
      },
      "text/plain": "FigureWidget({\n    'data': [{'type': 'scatter',\n              'uid': 'af209fdd-92bb-47d2-aadf-0425d5767f78',\n              'x': [0, 1, 2, 3, 4, 5, 6, 7, 8, 8, 9, 10, 11, 12, 13, 14, 15, 16,\n                    17, 18, 19, 20, 20, 21, 22, 23, 24, 25, 26, 27, 28, 28, 29, 30,\n                    31, 32, 32, 33, 34, 35, 36, 37, 38, 39, 40, 40, 41, 42, 43, 44,\n                    45, 46, 47, 48, 49, 50, 51, 52, 53, 54, 55, 56, 56, 57, 58, 59,\n                    60, 61, 62, 63, 64, 65, 66, 67, 68, 69, 70, 71, 72, 72, 73, 74,\n                    75, 76, 77, 78, 79, 80, 80, 81, 82, 83, 84, 85, 86, 87, 88, 88,\n                    89, 90, 91, 92, 93, 94, 95],\n              'y': [0, 0, 0, 0, 0, 0, 0, 0, 0, 10, 10, 10, 10, 10, 10, 10, 10, 10,\n                    10, 10, 10, 10, 0, 0, 0, 0, 0, 0, 0, 0, 0, 10, 10, 10, 10, 10,\n                    0, 0, 0, 0, 0, 0, 0, 0, 0, 10, 10, 10, 10, 10, 10, 10, 10, 10,\n                    10, 10, 10, 10, 10, 10, 10, 10, 0, 0, 0, 0, 0, 0, 0, 0, 0, 0,\n                    0, 0, 0, 0, 0, 0, 0, 10, 10, 10, 10, 10, 10, 10, 10, 10, 0, 0,\n                    0, 0, 0, 0, 0, 0, 0, 10, 10, 10, 10, 10, 10, 10, 10]}],\n    'layout': {'template': '...', 'xaxis': {'dtick': 4, 'tick0': 0, 'tickmode': 'linear'}}\n})"
     },
     "execution_count": 9,
     "metadata": {},
     "output_type": "execute_result"
    }
   ],
   "source": [
    "from typing import  List,Tuple\n",
    "\n",
    "data_ints= [0,8,12,8,4,8,16,16,8,8,8]\n",
    "import plotly.graph_objects as go\n",
    "f = go.FigureWidget()\n",
    "\n",
    "def make_lines_straight(x:List[int], y:List[int])->Tuple[List[int], List[int]]:\n",
    "    y_new = [x[0]]\n",
    "    x_new = [y[0]]\n",
    "    for yi, yv in enumerate(y[1:]):\n",
    "        yi +=1\n",
    "        if y[yi - 1] != yv:\n",
    "            y_new.append(y[yi - 1])   \n",
    "            x_new.append(x[yi])\n",
    "        y_new.append(yv)   \n",
    "        x_new.append(x[yi])\n",
    "    return x_new,y_new\n",
    "    \n",
    "        \n",
    "        \n",
    "\n",
    "\n",
    "def to_graph(list_ints:List[int]):\n",
    "    f = go.FigureWidget()\n",
    "    f.update_layout(\n",
    "        xaxis = dict(\n",
    "            tickmode = 'linear',\n",
    "            tick0 = 0,\n",
    "            dtick = 4\n",
    "        )\n",
    "    )\n",
    "    is_high = list_ints[0] == 1\n",
    "    values = list_ints[1:]\n",
    "    x = []\n",
    "    y = []\n",
    "    idx = 0\n",
    "    is_high = not is_high # invert to un invert on first iter\n",
    "    for val in values:\n",
    "        is_high = not is_high\n",
    "        for _ in range(val):\n",
    "            x.append(idx)\n",
    "            y.append(10 if is_high else 0)\n",
    "            idx+=1\n",
    "    x,y = make_lines_straight(x,y)\n",
    "    f.add_scatter(y=y, x=x)\n",
    "    return f \n",
    "        \n",
    "to_graph(data_ints)     \n",
    "\n",
    " \n",
    "\n",
    "\n",
    "\n"
   ],
   "metadata": {
    "collapsed": false,
    "ExecuteTime": {
     "end_time": "2024-04-26T20:27:08.718350Z",
     "start_time": "2024-04-26T20:27:08.579921Z"
    }
   },
   "id": "2b5bb4e189aaa555",
   "execution_count": 9
  },
  {
   "cell_type": "code",
   "outputs": [],
   "source": [],
   "metadata": {
    "collapsed": false
   },
   "id": "3d3fbaa29a302922"
  }
 ],
 "metadata": {
  "kernelspec": {
   "display_name": "Python 3",
   "language": "python",
   "name": "python3"
  },
  "language_info": {
   "codemirror_mode": {
    "name": "ipython",
    "version": 2
   },
   "file_extension": ".py",
   "mimetype": "text/x-python",
   "name": "python",
   "nbconvert_exporter": "python",
   "pygments_lexer": "ipython2",
   "version": "2.7.6"
  }
 },
 "nbformat": 4,
 "nbformat_minor": 5
}
