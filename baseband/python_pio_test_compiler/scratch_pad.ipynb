{
 "cells": [
  {
   "cell_type": "code",
   "outputs": [],
   "source": [
    "import functools\n",
    "from typing import List\n",
    "import re"
   ],
   "metadata": {
    "collapsed": false
   },
   "id": "5d6f086efe44895c"
  },
  {
   "cell_type": "code",
   "outputs": [],
   "source": [
    "CMDS = [\"SET\", \"OUT\", \"WAIT\",\"OUT\", \"JMP\", \"MOV\"]\n",
    "DIRECTIVES = [\".wrap_target\", \".wrap\"]"
   ],
   "metadata": {
    "collapsed": false,
    "ExecuteTime": {
     "end_time": "2024-04-25T19:23:27.326688Z",
     "start_time": "2024-04-25T19:23:27.301133Z"
    }
   },
   "id": "4f02f5ee543c4083",
   "execution_count": 2
  },
  {
   "cell_type": "code",
   "outputs": [],
   "source": [
    "def get_program_text() -> str:\n",
    "    with open(\"test.pio\", \"r\") as file1:\n",
    "        # Reading from a file\n",
    "        return file1.read()\n",
    "program:str = get_program_text()"
   ],
   "metadata": {
    "collapsed": false,
    "ExecuteTime": {
     "end_time": "2024-04-25T19:23:27.329493Z",
     "start_time": "2024-04-25T19:23:27.317483Z"
    }
   },
   "id": "1403629994a7659e",
   "execution_count": 3
  },
  {
   "cell_type": "code",
   "outputs": [
    {
     "data": {
      "text/plain": "['SET  pins   1',\n 'OUT     y  32',\n 'WAIT 0 pin 3',\n '.wrap_target',\n 'get_symbol:',\n 'OUT  x  1',\n 'JMP !x  section_wait',\n 'OUT  x  1',\n 'JMP !x  send_b10',\n 'send_b11:',\n 'MOV x  y',\n 'loop_1:',\n 'SET pins 1 [11]',\n 'SET pins 0 [15]',\n 'SET pins 1 [2]',\n 'JMP x-- loop_1',\n 'SET pins 1 [11]',\n 'SET pins 0  [15]',\n 'SET pins 1',\n 'JMP get_symbol',\n 'send_b10:',\n 'MOV x  y',\n 'loop_2:',\n 'SET pins 0 [3]',\n 'SET pins 1 [15]',\n 'SET pins 0 [10]',\n 'JMP x-- loop_2',\n 'SET pins 0 [3]',\n 'SET pins 1  [15]',\n 'SET pins 0  [8]',\n 'JMP get_symbol',\n 'section_wait:',\n 'MOV x y',\n 'loop_wait:',\n 'SET pins 0 [30]',\n 'JMP x-- loop_wait',\n 'SET pins 0 [28]',\n 'OUT x 1',\n 'JMP get_symbol',\n '.wrap']"
     },
     "execution_count": 4,
     "metadata": {},
     "output_type": "execute_result"
    }
   ],
   "source": [
    "[v[0].strip() for v in [x.split(\";\") for x in program.split(\"\\n\")]]\n"
   ],
   "metadata": {
    "collapsed": false,
    "ExecuteTime": {
     "end_time": "2024-04-25T19:23:27.349695Z",
     "start_time": "2024-04-25T19:23:27.337131Z"
    }
   },
   "id": "9fb9fd9a779f726b",
   "execution_count": 4
  },
  {
   "cell_type": "code",
   "outputs": [],
   "source": [
    "pins = {}"
   ],
   "metadata": {
    "collapsed": false,
    "ExecuteTime": {
     "end_time": "2024-04-25T19:23:27.434780Z",
     "start_time": "2024-04-25T19:23:27.348472Z"
    }
   },
   "id": "9e69dc13457eb1dc",
   "execution_count": 5
  },
  {
   "cell_type": "code",
   "outputs": [],
   "source": [
    "pins[1] = 0\n"
   ],
   "metadata": {
    "collapsed": false,
    "ExecuteTime": {
     "end_time": "2024-04-25T19:23:27.438777Z",
     "start_time": "2024-04-25T19:23:27.358508Z"
    }
   },
   "id": "23f74795c8125b27",
   "execution_count": 6
  },
  {
   "cell_type": "code",
   "outputs": [
    {
     "name": "stdout",
     "output_type": "stream",
     "text": [
      "0\n"
     ]
    }
   ],
   "source": [
    "print(pins.get(1))"
   ],
   "metadata": {
    "collapsed": false,
    "ExecuteTime": {
     "end_time": "2024-04-25T19:23:27.471015Z",
     "start_time": "2024-04-25T19:23:27.369572Z"
    }
   },
   "id": "a1ae272054843f7",
   "execution_count": 7
  },
  {
   "cell_type": "code",
   "outputs": [],
   "source": [
    "def get_input_bits_as_int(out_buffer: List[int], num_of_bits: int) -> int:\n",
    "        d:int = 0\n",
    "        for i in range(num_of_bits):\n",
    "            d = (d << 1) | out_buffer.pop()\n",
    "        return d"
   ],
   "metadata": {
    "collapsed": false,
    "ExecuteTime": {
     "end_time": "2024-04-25T19:23:27.512260Z",
     "start_time": "2024-04-25T19:23:27.376884Z"
    }
   },
   "id": "b78a34a028d50026",
   "execution_count": 8
  },
  {
   "cell_type": "code",
   "outputs": [
    {
     "data": {
      "text/plain": "21"
     },
     "execution_count": 9,
     "metadata": {},
     "output_type": "execute_result"
    }
   ],
   "source": [
    "get_input_bits_as_int([1,1,0,1,0,1,0,1,0,1], 5)"
   ],
   "metadata": {
    "collapsed": false,
    "ExecuteTime": {
     "end_time": "2024-04-25T19:23:27.529459Z",
     "start_time": "2024-04-25T19:23:27.388729Z"
    }
   },
   "id": "8f143ed0c702bc1e",
   "execution_count": 9
  },
  {
   "cell_type": "code",
   "outputs": [
    {
     "name": "stdout",
     "output_type": "stream",
     "text": [
      "11\n"
     ]
    }
   ],
   "source": [
    "str1 = \"    OUT  x  1          ; get data bit\"\n",
    "str2 = \"            SET pins 1 [11] \"\n",
    "delay = re.sub(r'.+\\[(\\d+)\\].+', '$1', str1.strip())\n",
    "delay2 = re.sub(r'.+\\[(\\d+)\\].+', '$1', str2.strip())\n",
    "str2.strip().split(\"[\")[1].split(\"]\")[0]\n",
    "s1 = str2.strip().split(\"[\")\n",
    "if(len(s1)>1):\n",
    "    print(s1[1].split(\"]\")[0])\n",
    "    \n",
    "\n",
    "\n",
    "\n"
   ],
   "metadata": {
    "collapsed": false,
    "ExecuteTime": {
     "end_time": "2024-04-25T19:23:27.532699Z",
     "start_time": "2024-04-25T19:23:27.412521Z"
    }
   },
   "id": "3a12dd0f26f437f9",
   "execution_count": 10
  },
  {
   "cell_type": "code",
   "outputs": [],
   "source": [
    "import math\n",
    "\n",
    "\n",
    "def number_as_bits(num:int) -> List[int]:\n",
    "    # from https://stackoverflow.com/questions/30971079/how-to-convert-an-integer-to-a-list-of-bits\n",
    "    bits = int(max(8, math.log(num, 2) + 1))\n",
    "    out = [1 if num & (1 << (bits - 1 - n)) else 0 for n in range(bits)]\n",
    "    return out"
   ],
   "metadata": {
    "collapsed": false,
    "ExecuteTime": {
     "end_time": "2024-04-25T19:23:27.551675Z",
     "start_time": "2024-04-25T19:23:27.429820Z"
    }
   },
   "id": "c1c8674eda4bc533",
   "execution_count": 11
  },
  {
   "cell_type": "code",
   "outputs": [
    {
     "data": {
      "text/plain": "[0, 1, 0, 1, 0, 0, 0, 0]"
     },
     "execution_count": 12,
     "metadata": {},
     "output_type": "execute_result"
    }
   ],
   "source": [
    "n = number_as_bits(10)\n",
    "n.reverse()\n",
    "n"
   ],
   "metadata": {
    "collapsed": false,
    "ExecuteTime": {
     "end_time": "2024-04-25T19:23:27.568748Z",
     "start_time": "2024-04-25T19:23:27.450327Z"
    }
   },
   "id": "a66ebadbc73d373c",
   "execution_count": 12
  },
  {
   "cell_type": "code",
   "outputs": [
    {
     "data": {
      "text/plain": "10"
     },
     "execution_count": 13,
     "metadata": {},
     "output_type": "execute_result"
    }
   ],
   "source": [
    "l = number_as_bits(10)\n",
    "l.reverse()\n",
    "get_input_bits_as_int(l, 8)"
   ],
   "metadata": {
    "collapsed": false,
    "ExecuteTime": {
     "end_time": "2024-04-25T19:23:27.572941Z",
     "start_time": "2024-04-25T19:23:27.462877Z"
    }
   },
   "id": "10b82a81bb14e95c",
   "execution_count": 13
  },
  {
   "cell_type": "code",
   "outputs": [],
   "source": [
    "from generate_python_script import PioState"
   ],
   "metadata": {
    "collapsed": false,
    "ExecuteTime": {
     "end_time": "2024-04-25T19:23:28.215616Z",
     "start_time": "2024-04-25T19:23:27.509764Z"
    }
   },
   "id": "349f0828c4d2fe01",
   "execution_count": 14
  },
  {
   "cell_type": "code",
   "outputs": [],
   "source": [
    "data:int = 0b01101011110000111110100000010100\n"
   ],
   "metadata": {
    "collapsed": false,
    "ExecuteTime": {
     "end_time": "2024-04-25T20:20:48.842050Z",
     "start_time": "2024-04-25T20:20:48.837107Z"
    }
   },
   "id": "5036574969b1a216",
   "execution_count": 13
  },
  {
   "cell_type": "code",
   "outputs": [
    {
     "name": "stdout",
     "output_type": "stream",
     "text": [
      "[0, 0, 1, 0, 1, 0, 0, 0, 0, 0, 0, 1, 0, 1, 1, 1, 1, 1, 0, 0, 0, 0, 1, 1, 1, 1, 0, 1, 0, 1, 1, 0]\n"
     ]
    }
   ],
   "source": [
    "num = 0b11010100\n",
    "\n",
    "bits = []\n",
    "for i in range(32):\n",
    "    bit= (data>>i) & 0b1\n",
    "    bits.append(bit)\n",
    "print(bits)"
   ],
   "metadata": {
    "collapsed": false,
    "ExecuteTime": {
     "end_time": "2024-04-25T20:20:50.238939Z",
     "start_time": "2024-04-25T20:20:50.234876Z"
    }
   },
   "id": "c446fa8eb8ae603a",
   "execution_count": 14
  }
 ],
 "metadata": {
  "kernelspec": {
   "display_name": "Python 3",
   "language": "python",
   "name": "python3"
  },
  "language_info": {
   "codemirror_mode": {
    "name": "ipython",
    "version": 2
   },
   "file_extension": ".py",
   "mimetype": "text/x-python",
   "name": "python",
   "nbconvert_exporter": "python",
   "pygments_lexer": "ipython2",
   "version": "2.7.6"
  }
 },
 "nbformat": 4,
 "nbformat_minor": 5
}
